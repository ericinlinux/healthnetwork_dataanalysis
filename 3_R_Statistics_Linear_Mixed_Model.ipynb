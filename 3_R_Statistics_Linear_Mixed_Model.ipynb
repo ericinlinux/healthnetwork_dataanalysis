{
 "cells": [
  {
   "cell_type": "markdown",
   "metadata": {},
   "source": [
    "# Multiple Linear Regression Model\n",
    "## Part C - Section IV\n",
    "\n",
    "This part contains the linear mixed model performed in R.\n",
    "\n",
    "Requires library nlme from R."
   ]
  },
  {
   "cell_type": "markdown",
   "metadata": {},
   "source": [
    "---\n",
    "**Description:** reproduction of the results presented in section IV.B in the paper 'Online Sharing of physical activity'.\n",
    "\n",
    "**Author:** Eric Araujo\n",
    "\n",
    "---"
   ]
  },
  {
   "cell_type": "code",
   "execution_count": 1,
   "metadata": {},
   "outputs": [],
   "source": [
    "# Compute random effects model and compare it with gls (generalized least square) \n",
    "# The first week is left out, because this week is usually a bit atypical,\n",
    "# presumably due to novelty effects of starting the program.\n",
    "library(nlme)"
   ]
  },
  {
   "cell_type": "code",
   "execution_count": 2,
   "metadata": {},
   "outputs": [],
   "source": [
    "getWholeCommunity <- function(){\n",
    "  path <- \"./data/original\"\n",
    "    # \"D:/research/directLifeData/DirectLife/Analysis.0.4/results/statistical analysis\"\n",
    "  communityWithoutNA <- read.csv(paste(path, \"/allCommunitiesWithoutNA.csv\", sep=\"\"))\n",
    "  return (communityWithoutNA)\n",
    "}"
   ]
  },
  {
   "cell_type": "code",
   "execution_count": 3,
   "metadata": {},
   "outputs": [],
   "source": [
    "getWholeNonCommunity <- function(){\n",
    "  path <- \"./data/original\"\n",
    "  nonCommunityWithoutNA <- read.csv(paste(path, \"/allnonCommunitiesWithoutNA.csv\", sep=\"\"))\n",
    "  return (nonCommunityWithoutNA)\n",
    "}"
   ]
  },
  {
   "cell_type": "code",
   "execution_count": 4,
   "metadata": {},
   "outputs": [],
   "source": [
    "community <- getWholeCommunity()\n",
    "nonCommunity <- getWholeNonCommunity()"
   ]
  },
  {
   "cell_type": "code",
   "execution_count": 5,
   "metadata": {},
   "outputs": [],
   "source": [
    "drops  <- c(\"X.1\", \"X.2\", \"X.3\", \"X.4\", \"X.5\", \"X.6\", \"X.7\") \n",
    "#first week is removed because of the novelity effect(see paper)"
   ]
  },
  {
   "cell_type": "code",
   "execution_count": 6,
   "metadata": {},
   "outputs": [],
   "source": [
    "communityLongFormat <- community[, !(names(community) %in% drops)]\n",
    "nonCommunityLongFormat <- nonCommunity[, !(names(nonCommunity) %in% drops)]"
   ]
  },
  {
   "cell_type": "code",
   "execution_count": 7,
   "metadata": {},
   "outputs": [],
   "source": [
    "# reshape function converts it to long format\n",
    "nonCommunityLongFormat <- reshape(nonCommunityLongFormat, varying = 2:78, idvar = \"id\", direction = \"long\")\n",
    "communityLongFormat <- reshape(communityLongFormat, varying = 2:78, idvar = \"id\", direction = \"long\")"
   ]
  },
  {
   "cell_type": "code",
   "execution_count": 8,
   "metadata": {},
   "outputs": [],
   "source": [
    "nonCommunityLongFormat[\"isCommunity\"] <- as.factor(0)\n",
    "communityLongFormat[\"isCommunity\"] <- as.factor(1)"
   ]
  },
  {
   "cell_type": "code",
   "execution_count": 9,
   "metadata": {},
   "outputs": [],
   "source": [
    "communityNoncommunityLongFormat <- rbind(communityLongFormat, nonCommunityLongFormat)\n",
    "communityNoncommunityLongFormat <- within(communityNoncommunityLongFormat, communityNoncommunityLongFormat$isCommunity <- relevel(communityNoncommunityLongFormat$isCommunity, ref = 1))\n",
    "model1 <- lme(X ~ isCommunity*time, random = ~1|id, data = communityNoncommunityLongFormat)\n",
    "model2 <- gls(X ~ isCommunity*time, data = communityNoncommunityLongFormat)"
   ]
  },
  {
   "cell_type": "code",
   "execution_count": 10,
   "metadata": {},
   "outputs": [
    {
     "name": "stdout",
     "output_type": "stream",
     "text": [
      "[1] \"***************************************************************\"\n",
      "[1] \"M O D E L 1: L M E\"\n",
      "[1] \"***************************************************************\"\n",
      "Linear mixed-effects model fit by REML\n",
      " Data: communityNoncommunityLongFormat \n",
      "       AIC      BIC    logLik\n",
      "  13555.15 13607.41 -6771.574\n",
      "\n",
      "Random effects:\n",
      " Formula: ~1 | id\n",
      "        (Intercept)  Residual\n",
      "StdDev:   0.2067486 0.2744509\n",
      "\n",
      "Fixed effects: X ~ isCommunity * time \n",
      "                       Value   Std.Error    DF  t-value p-value\n",
      "(Intercept)        1.6933389 0.023882981 44230 70.90149  0.0000\n",
      "isCommunity0      -0.0586920 0.025818758   580 -2.27323  0.0234\n",
      "time               0.0005821 0.000153538 44230  3.79115  0.0002\n",
      "isCommunity0:time -0.0006525 0.000165983 44230 -3.93109  0.0001\n",
      " Correlation: \n",
      "                  (Intr) isCmm0 time  \n",
      "isCommunity0      -0.925              \n",
      "time              -0.296  0.274       \n",
      "isCommunity0:time  0.274 -0.296 -0.925\n",
      "\n",
      "Standardized Within-Group Residuals:\n",
      "        Min          Q1         Med          Q3         Max \n",
      "-4.96876516 -0.47082205 -0.02818464  0.42274759 78.40901817 \n",
      "\n",
      "Number of Observations: 44814\n",
      "Number of Groups: 582 \n",
      "[1] \"###############################################################\"\n"
     ]
    }
   ],
   "source": [
    "print (\"***************************************************************\")\n",
    "print(\"M O D E L 1: L M E\")\n",
    "print (\"***************************************************************\")\n",
    "print (summary(model1))\n",
    "print (\"###############################################################\")"
   ]
  },
  {
   "cell_type": "code",
   "execution_count": 11,
   "metadata": {},
   "outputs": [
    {
     "name": "stdout",
     "output_type": "stream",
     "text": [
      "[1] \"***************************************************************\"\n",
      "[1] \"M O D E L 2: G L S\"\n",
      "[1] \"***************************************************************\"\n",
      "Generalized least squares fit by REML\n",
      "  Model: X ~ isCommunity * time \n",
      "  Data: communityNoncommunityLongFormat \n",
      "       AIC      BIC    logLik\n",
      "  31435.78 31479.33 -15712.89\n",
      "\n",
      "Coefficients:\n",
      "                       Value   Std.Error   t-value p-value\n",
      "(Intercept)        1.6933389 0.009814656 172.53167  0.0000\n",
      "isCommunity0      -0.0586920 0.010610159  -5.53168  0.0000\n",
      "time               0.0005821 0.000192112   3.02993  0.0024\n",
      "isCommunity0:time -0.0006525 0.000207683  -3.14177  0.0017\n",
      "\n",
      " Correlation: \n",
      "                  (Intr) isCmm0 time  \n",
      "isCommunity0      -0.925              \n",
      "time              -0.900  0.833       \n",
      "isCommunity0:time  0.833 -0.900 -0.925\n",
      "\n",
      "Standardized residuals:\n",
      "        Min          Q1         Med          Q3         Max \n",
      "-1.83791425 -0.53524047 -0.08126548  0.45666652 63.72657283 \n",
      "\n",
      "Residual standard error: 0.3434024 \n",
      "Degrees of freedom: 44814 total; 44810 residual\n",
      "[1] \"###############################################################\"\n",
      "[1] \"***************************************************************\"\n",
      "[1] \"comparing simple model with random model\"\n",
      "[1] \"***************************************************************\"\n"
     ]
    }
   ],
   "source": [
    "print (\"***************************************************************\")\n",
    "print(\"M O D E L 2: G L S\")\n",
    "print (\"***************************************************************\")\n",
    "print (summary(model2))\n",
    "print (\"###############################################################\")\n",
    "\n",
    "print (\"***************************************************************\")\n",
    "print (\"comparing simple model with random model\")\n",
    "print (\"***************************************************************\")"
   ]
  },
  {
   "cell_type": "code",
   "execution_count": 12,
   "metadata": {},
   "outputs": [
    {
     "name": "stdout",
     "output_type": "stream",
     "text": [
      "       Model df      AIC      BIC     logLik   Test  L.Ratio p-value\n",
      "model1     1  6 13555.15 13607.41  -6771.574                        \n",
      "model2     2  5 31435.78 31479.33 -15712.890 1 vs 2 17882.63  <.0001\n"
     ]
    }
   ],
   "source": [
    "result <- anova(model1, model2)\n",
    "print (result)"
   ]
  },
  {
   "cell_type": "code",
   "execution_count": null,
   "metadata": {},
   "outputs": [],
   "source": []
  }
 ],
 "metadata": {
  "kernelspec": {
   "display_name": "R",
   "language": "R",
   "name": "ir"
  },
  "language_info": {
   "codemirror_mode": "r",
   "file_extension": ".r",
   "mimetype": "text/x-r-source",
   "name": "R",
   "pygments_lexer": "r",
   "version": "3.4.3"
  }
 },
 "nbformat": 4,
 "nbformat_minor": 2
}

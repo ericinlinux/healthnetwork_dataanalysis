{
 "cells": [
  {
   "cell_type": "markdown",
   "metadata": {},
   "source": [
    "# Multiple Linear Regression Model\n",
    "## Part B - Section IV\n",
    "\n",
    "This part contains the linear model performed by the function lm() in R.\n"
   ]
  },
  {
   "cell_type": "code",
   "execution_count": 1,
   "metadata": {},
   "outputs": [],
   "source": [
    "getWholeCommunity <- function(){\n",
    "  path <- \"./data/original\"\n",
    "  communityWithoutNA <- read.csv(paste(path, \"/allCommunitiesWithoutNA.csv\", sep=\"\"))\n",
    "  return (communityWithoutNA)\n",
    "}"
   ]
  },
  {
   "cell_type": "code",
   "execution_count": 2,
   "metadata": {},
   "outputs": [],
   "source": [
    "getWholeNonCommunity <- function(){\n",
    "  path <- \"./data/original\"\n",
    "  nonCommunityWithoutNA <- read.csv(paste(path, \"/allnonCommunitiesWithoutNA.csv\", sep=\"\"))\n",
    "  return (nonCommunityWithoutNA)\n",
    "}"
   ]
  },
  {
   "cell_type": "markdown",
   "metadata": {},
   "source": [
    "### Raw data from the files"
   ]
  },
  {
   "cell_type": "code",
   "execution_count": 3,
   "metadata": {},
   "outputs": [],
   "source": [
    "# Get data from the files\n",
    "community <- getWholeCommunity()\n",
    "nonCommunity <- getWholeNonCommunity()"
   ]
  },
  {
   "cell_type": "markdown",
   "metadata": {},
   "source": [
    "### Selection of days to build the model\n",
    "Weeks 2 and 3 are the start PAL, and the last 3 weeks are the final PAL."
   ]
  },
  {
   "cell_type": "code",
   "execution_count": 4,
   "metadata": {},
   "outputs": [],
   "source": [
    "# 2 first weeks (weeks 2 and 3)\n",
    "start_weeks_com = community[,9:22]\n",
    "start_weeks_non = nonCommunity[,9:22]\n",
    "# 3 last weeks\n",
    "last_weeks_com = community[,65:85]\n",
    "last_weeks_non = nonCommunity[,65:85]"
   ]
  },
  {
   "cell_type": "markdown",
   "metadata": {},
   "source": [
    "### Create the data frames with the means for the start and last weeks."
   ]
  },
  {
   "cell_type": "code",
   "execution_count": 5,
   "metadata": {},
   "outputs": [],
   "source": [
    "#community\n",
    "df_com = data.frame(id=community$id, start_mean=rowMeans(start_weeks_com), last_mean=rowMeans(last_weeks_com))\n",
    "df_non = data.frame(id=nonCommunity$id, start_mean=rowMeans(start_weeks_non), last_mean=rowMeans(last_weeks_non))"
   ]
  },
  {
   "cell_type": "markdown",
   "metadata": {},
   "source": [
    "### Add the categorical variable and merge the data frames"
   ]
  },
  {
   "cell_type": "code",
   "execution_count": 6,
   "metadata": {},
   "outputs": [],
   "source": [
    "df_com['isCommunity'] <- as.factor(1)\n",
    "df_non['isCommunity'] <- as.factor(0)"
   ]
  },
  {
   "cell_type": "code",
   "execution_count": 7,
   "metadata": {},
   "outputs": [],
   "source": [
    "df <- rbind(df_com, df_non)"
   ]
  },
  {
   "cell_type": "code",
   "execution_count": 8,
   "metadata": {},
   "outputs": [
    {
     "data": {
      "text/html": [
       "<ol class=list-inline>\n",
       "\t<li>'1'</li>\n",
       "\t<li>'0'</li>\n",
       "</ol>\n"
      ],
      "text/latex": [
       "\\begin{enumerate*}\n",
       "\\item '1'\n",
       "\\item '0'\n",
       "\\end{enumerate*}\n"
      ],
      "text/markdown": [
       "1. '1'\n",
       "2. '0'\n",
       "\n",
       "\n"
      ],
      "text/plain": [
       "[1] \"1\" \"0\""
      ]
     },
     "metadata": {},
     "output_type": "display_data"
    }
   ],
   "source": [
    "levels(df$isCommunity)"
   ]
  },
  {
   "cell_type": "markdown",
   "metadata": {},
   "source": [
    "### Build and summarize the model"
   ]
  },
  {
   "cell_type": "code",
   "execution_count": 9,
   "metadata": {},
   "outputs": [],
   "source": [
    "model <- lm(last_mean ~ start_mean + isCommunity, data=df)"
   ]
  },
  {
   "cell_type": "code",
   "execution_count": 10,
   "metadata": {},
   "outputs": [
    {
     "data": {
      "text/plain": [
       "\n",
       "Call:\n",
       "lm(formula = last_mean ~ start_mean + isCommunity, data = df)\n",
       "\n",
       "Residuals:\n",
       "     Min       1Q   Median       3Q      Max \n",
       "-0.61607 -0.09273  0.00998  0.09852  1.59376 \n",
       "\n",
       "Coefficients:\n",
       "             Estimate Std. Error t value Pr(>|t|)    \n",
       "(Intercept)   0.28623    0.07283   3.930 9.51e-05 ***\n",
       "start_mean    0.85041    0.04091  20.786  < 2e-16 ***\n",
       "isCommunity0 -0.05061    0.02327  -2.175     0.03 *  \n",
       "---\n",
       "Signif. codes:  0 ‘***’ 0.001 ‘**’ 0.01 ‘*’ 0.05 ‘.’ 0.1 ‘ ’ 1\n",
       "\n",
       "Residual standard error: 0.1959 on 579 degrees of freedom\n",
       "Multiple R-squared:  0.4395,\tAdjusted R-squared:  0.4375 \n",
       "F-statistic:   227 on 2 and 579 DF,  p-value: < 2.2e-16\n"
      ]
     },
     "metadata": {},
     "output_type": "display_data"
    }
   ],
   "source": [
    "summary(model)"
   ]
  },
  {
   "cell_type": "code",
   "execution_count": null,
   "metadata": {},
   "outputs": [],
   "source": []
  },
  {
   "cell_type": "code",
   "execution_count": null,
   "metadata": {},
   "outputs": [],
   "source": []
  }
 ],
 "metadata": {
  "kernelspec": {
   "display_name": "R",
   "language": "R",
   "name": "ir"
  },
  "language_info": {
   "codemirror_mode": "r",
   "file_extension": ".r",
   "mimetype": "text/x-r-source",
   "name": "R",
   "pygments_lexer": "r",
   "version": "3.4.3"
  }
 },
 "nbformat": 4,
 "nbformat_minor": 2
}

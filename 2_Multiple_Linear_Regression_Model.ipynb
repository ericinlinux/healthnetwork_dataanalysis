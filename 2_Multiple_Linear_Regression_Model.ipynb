{
 "cells": [
  {
   "cell_type": "markdown",
   "metadata": {},
   "source": [
    "# Multiple Linear Regression Model\n",
    "## Part B - Section IV\n",
    "\n",
    "This part contains the linear model performed by the function lm() in R.\n"
   ]
  },
  {
   "cell_type": "markdown",
   "metadata": {},
   "source": [
    "---\n",
    "**Description:** reproduction of the results presented in section IV.B in the paper 'Online Sharing of physical activity'.\n",
    "\n",
    "**Author:** Eric Araujo\n",
    "\n",
    "---"
   ]
  },
  {
   "cell_type": "code",
   "execution_count": 1,
   "metadata": {},
   "outputs": [],
   "source": [
    "getWholeCommunity <- function(){\n",
    "  path <- \"./data/original\"\n",
    "  communityWithoutNA <- read.csv(paste(path, \"/allCommunitiesWithoutNA.csv\", sep=\"\"))\n",
    "  return (communityWithoutNA)\n",
    "}"
   ]
  },
  {
   "cell_type": "code",
   "execution_count": 2,
   "metadata": {},
   "outputs": [],
   "source": [
    "getWholeNonCommunity <- function(){\n",
    "  path <- \"./data/original\"\n",
    "  nonCommunityWithoutNA <- read.csv(paste(path, \"/allnonCommunitiesWithoutNA.csv\", sep=\"\"))\n",
    "  return (nonCommunityWithoutNA)\n",
    "}"
   ]
  },
  {
   "cell_type": "markdown",
   "metadata": {},
   "source": [
    "### Raw data from the files"
   ]
  },
  {
   "cell_type": "code",
   "execution_count": 3,
   "metadata": {},
   "outputs": [],
   "source": [
    "# Get data from the files\n",
    "community <- getWholeCommunity()\n",
    "nonCommunity <- getWholeNonCommunity()"
   ]
  },
  {
   "cell_type": "markdown",
   "metadata": {},
   "source": [
    "### Selection of days to build the model\n",
    "Weeks 2 and 3 are the start PAL, and the last 3 weeks are the final PAL."
   ]
  },
  {
   "cell_type": "code",
   "execution_count": 4,
   "metadata": {},
   "outputs": [],
   "source": [
    "# 2 first weeks (weeks 2 and 3)\n",
    "start_weeks_com = community[,9:22]\n",
    "start_weeks_non = nonCommunity[,9:22]\n",
    "# 3 last weeks\n",
    "last_weeks_com = community[,65:85]\n",
    "last_weeks_non = nonCommunity[,65:85]"
   ]
  },
  {
   "cell_type": "markdown",
   "metadata": {},
   "source": [
    "### Create the data frames with the means for the start and last weeks."
   ]
  },
  {
   "cell_type": "code",
   "execution_count": 5,
   "metadata": {},
   "outputs": [],
   "source": [
    "df_com = data.frame(id=community$id, start_mean=rowMeans(start_weeks_com), last_mean=rowMeans(last_weeks_com))\n",
    "df_non = data.frame(id=nonCommunity$id, start_mean=rowMeans(start_weeks_non), last_mean=rowMeans(last_weeks_non))"
   ]
  },
  {
   "cell_type": "markdown",
   "metadata": {},
   "source": [
    "### Add the categorical variable and merge the data frames"
   ]
  },
  {
   "cell_type": "code",
   "execution_count": 6,
   "metadata": {},
   "outputs": [],
   "source": [
    "df_non['isCommunity'] <- as.factor(0)\n",
    "df_com['isCommunity'] <- as.factor(1)"
   ]
  },
  {
   "cell_type": "code",
   "execution_count": 7,
   "metadata": {},
   "outputs": [],
   "source": [
    "df <- rbind(df_non, df_com)"
   ]
  },
  {
   "cell_type": "code",
   "execution_count": 8,
   "metadata": {},
   "outputs": [
    {
     "data": {
      "text/html": [
       "<ol class=list-inline>\n",
       "\t<li>'0'</li>\n",
       "\t<li>'1'</li>\n",
       "</ol>\n"
      ],
      "text/latex": [
       "\\begin{enumerate*}\n",
       "\\item '0'\n",
       "\\item '1'\n",
       "\\end{enumerate*}\n"
      ],
      "text/markdown": [
       "1. '0'\n",
       "2. '1'\n",
       "\n",
       "\n"
      ],
      "text/plain": [
       "[1] \"0\" \"1\""
      ]
     },
     "metadata": {},
     "output_type": "display_data"
    }
   ],
   "source": [
    "levels(df$isCommunity)"
   ]
  },
  {
   "cell_type": "markdown",
   "metadata": {},
   "source": [
    "### Build and summarize the model"
   ]
  },
  {
   "cell_type": "code",
   "execution_count": 9,
   "metadata": {},
   "outputs": [],
   "source": [
    "model <- lm(last_mean ~ start_mean + isCommunity, data=df)"
   ]
  },
  {
   "cell_type": "code",
   "execution_count": 10,
   "metadata": {},
   "outputs": [
    {
     "data": {
      "text/plain": [
       "\n",
       "Call:\n",
       "lm(formula = last_mean ~ start_mean + isCommunity, data = df)\n",
       "\n",
       "Residuals:\n",
       "     Min       1Q   Median       3Q      Max \n",
       "-0.61607 -0.09273  0.00998  0.09852  1.59376 \n",
       "\n",
       "Coefficients:\n",
       "             Estimate Std. Error t value Pr(>|t|)    \n",
       "(Intercept)   0.23562    0.06743   3.494 0.000512 ***\n",
       "start_mean    0.85041    0.04091  20.786  < 2e-16 ***\n",
       "isCommunity1  0.05061    0.02327   2.175 0.030047 *  \n",
       "---\n",
       "Signif. codes:  0 ‘***’ 0.001 ‘**’ 0.01 ‘*’ 0.05 ‘.’ 0.1 ‘ ’ 1\n",
       "\n",
       "Residual standard error: 0.1959 on 579 degrees of freedom\n",
       "Multiple R-squared:  0.4395,\tAdjusted R-squared:  0.4375 \n",
       "F-statistic:   227 on 2 and 579 DF,  p-value: < 2.2e-16\n"
      ]
     },
     "metadata": {},
     "output_type": "display_data"
    }
   ],
   "source": [
    "summary(model)"
   ]
  },
  {
   "cell_type": "code",
   "execution_count": 11,
   "metadata": {},
   "outputs": [
    {
     "data": {
      "image/png": "[encoded data removed]",
      "text/plain": [
       "Plot with title “”"
      ]
     },
     "metadata": {},
     "output_type": "display_data"
    }
   ],
   "source": [
    "termplot(model, se = TRUE, terms = \"start_mean\")"
   ]
  },
  {
   "cell_type": "code",
   "execution_count": 12,
   "metadata": {},
   "outputs": [
    {
     "data": {
      "text/html": [
       "<table>\n",
       "<thead><tr><th></th><th scope=col>2.5 %</th><th scope=col>97.5 %</th></tr></thead>\n",
       "<tbody>\n",
       "\t<tr><th scope=row>(Intercept)</th><td>0.103183199</td><td>0.36806404 </td></tr>\n",
       "\t<tr><th scope=row>start_mean</th><td>0.770053966</td><td>0.93076099 </td></tr>\n",
       "\t<tr><th scope=row>isCommunity1</th><td>0.004904269</td><td>0.09631087 </td></tr>\n",
       "</tbody>\n",
       "</table>\n"
      ],
      "text/latex": [
       "\\begin{tabular}{r|ll}\n",
       "  & 2.5 \\% & 97.5 \\%\\\\\n",
       "\\hline\n",
       "\t(Intercept) & 0.103183199 & 0.36806404 \\\\\n",
       "\tstart\\_mean & 0.770053966 & 0.93076099 \\\\\n",
       "\tisCommunity1 & 0.004904269 & 0.09631087 \\\\\n",
       "\\end{tabular}\n"
      ],
      "text/markdown": [
       "\n",
       "| <!--/--> | 2.5 % | 97.5 % | \n",
       "|---|---|---|\n",
       "| (Intercept) | 0.103183199 | 0.36806404  | \n",
       "| start_mean | 0.770053966 | 0.93076099  | \n",
       "| isCommunity1 | 0.004904269 | 0.09631087  | \n",
       "\n",
       "\n"
      ],
      "text/plain": [
       "             2.5 %       97.5 %    \n",
       "(Intercept)  0.103183199 0.36806404\n",
       "start_mean   0.770053966 0.93076099\n",
       "isCommunity1 0.004904269 0.09631087"
      ]
     },
     "metadata": {},
     "output_type": "display_data"
    }
   ],
   "source": [
    "confint(model, level=0.95)"
   ]
  },
  {
   "cell_type": "code",
   "execution_count": null,
   "metadata": {},
   "outputs": [],
   "source": []
  }
 ],
 "metadata": {
  "kernelspec": {
   "display_name": "R",
   "language": "R",
   "name": "ir"
  },
  "language_info": {
   "codemirror_mode": "r",
   "file_extension": ".r",
   "mimetype": "text/x-r-source",
   "name": "R",
   "pygments_lexer": "r",
   "version": "3.4.3"
  }
 },
 "nbformat": 4,
 "nbformat_minor": 2
}
